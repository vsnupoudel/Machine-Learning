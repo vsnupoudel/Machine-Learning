{
 "cells": [
  {
   "cell_type": "markdown",
   "metadata": {},
   "source": [
    "# Read input files and define function"
   ]
  },
  {
   "cell_type": "code",
   "execution_count": 1,
   "metadata": {},
   "outputs": [],
   "source": [
    "from sklearn.decomposition import PCA\n",
    "from sklearn.ensemble import RandomForestRegressor\n",
    "from sklearn.model_selection import GridSearchCV\n",
    "from sklearn.pipeline import  make_pipeline\n",
    "from sklearn.metrics import mean_squared_error\n",
    "from sklearn.preprocessing import StandardScaler\n",
    "from sklearn.cross_decomposition import PLSRegression"
   ]
  },
  {
   "cell_type": "code",
   "execution_count": 2,
   "metadata": {},
   "outputs": [],
   "source": [
    "# -*- coding: utf-8 -*-\n",
    "import numpy as np\n",
    "import pandas as pd\n",
    "import matplotlib.pyplot as plt\n",
    "import pickle \n",
    "\n",
    "#==============================================================================\n",
    "#  Define EMSC\n",
    "#==============================================================================\n",
    "#%% Extended multiplicative signal correction\n",
    "def EMSC(X, reference, degree=4):\n",
    "    # Create polynomials up to chosen degree\n",
    "    poly = []; pvar = [1]\n",
    "    for i in range(degree):\n",
    "        poly.append( np.polyval(pvar,np.linspace(-1,1,len(reference))) )\n",
    "        pvar.append(0)\n",
    "    # Reference spectrum and polynomials\n",
    "    emsc_basis = np.vstack([reference, np.vstack(poly)])\n",
    "    # Estimate EMSC parameters\n",
    "    (params,_,_,_) = np.linalg.lstsq(emsc_basis.T, X.T, rcond=None)\n",
    "    # Correct and return\n",
    "    return (X - params[1:,:].T @ emsc_basis[1:,:])/params[:1,:].T\n",
    "\n",
    "\n",
    "#==============================================================================\n",
    "#  Read train and test file\n",
    "#==============================================================================\n",
    "pickle_train = open(\"train.pkl\",\"rb\")\n",
    "train_object = pickle.load(pickle_train)\n",
    "pickle_test = open(\"test.pkl\",\"rb\")\n",
    "test_object = pickle.load(pickle_test)\n",
    "\n",
    "#==============================================================================\n",
    "#  Read dictionary objects into arrays and Matrices\n",
    "#==============================================================================\n",
    "columns = train_object['shifts'].flatten()\n",
    "X_train = train_object['RamanCal']\n",
    "y_train = train_object['IodineCal']\n",
    "replicates_train = train_object['repCal']\n",
    "\n",
    "X_test = test_object['RamanVal']\n",
    "replicates_test = test_object['repVal']"
   ]
  },
  {
   "cell_type": "markdown",
   "metadata": {},
   "source": [
    "# Technical preprocessing"
   ]
  },
  {
   "cell_type": "code",
   "execution_count": 3,
   "metadata": {},
   "outputs": [],
   "source": [
    "#==============================================================================\n",
    "#  Keep only the shifts between 500 and 3100- train aand test\n",
    "#==============================================================================\n",
    "X_cut_train = X_train[ :, (columns>=500) & (columns<=3100)]\n",
    "colnames = columns[ (columns>=500) & (columns<=3100) ]\n",
    "X_emsc_train = EMSC(X_cut_train, X_cut_train[1343, :]  , degree=7)\n",
    "\n",
    "X_cut_test = X_test[ :, (columns>=500) & (columns<=3100)]\n",
    "X_emsc_test = EMSC(X_cut_test, X_cut_train[1343, :]  , degree=7)"
   ]
  },
  {
   "cell_type": "markdown",
   "metadata": {},
   "source": [
    "# Creating DataFrames which are used later"
   ]
  },
  {
   "cell_type": "code",
   "execution_count": 4,
   "metadata": {},
   "outputs": [],
   "source": [
    "#==============================================================================\n",
    "#  Create dataframes for data visualization\n",
    "#==============================================================================\n",
    "col_str = list( map( str, colnames))\n",
    "col_str.insert(0,'replicates')\n",
    "\n",
    "test_df = pd.DataFrame( np.concatenate( (replicates_test[:, np.newaxis ]\n",
    "            , X_emsc_test), axis =1), columns= col_str)\n",
    "\n",
    "col_str.append('Iodine')\n",
    "\n",
    "train_df = pd.DataFrame( np.concatenate( (replicates_train[:, np.newaxis ]\n",
    "            , X_emsc_train, y_train), axis =1)\n",
    "            , columns= col_str)"
   ]
  },
  {
   "cell_type": "markdown",
   "metadata": {},
   "source": [
    "# PCA and RANSAC"
   ]
  },
  {
   "cell_type": "code",
   "execution_count": 7,
   "metadata": {},
   "outputs": [],
   "source": [
    "from sklearn.preprocessing import PolynomialFeatures\n",
    "from sklearn.decomposition import PCA, KernelPCA\n",
    "\n",
    "from sklearn.linear_model import RANSACRegressor, LinearRegression"
   ]
  },
  {
   "cell_type": "code",
   "execution_count": 8,
   "metadata": {},
   "outputs": [],
   "source": [
    "train_avg_df = train_df.iloc[:, :].groupby('replicates').mean()\n",
    "test_avg_df = test_df.iloc[:, :].groupby('replicates').mean()"
   ]
  },
  {
   "cell_type": "code",
   "execution_count": 21,
   "metadata": {},
   "outputs": [],
   "source": [
    "pip = make_pipeline(PCA(n_components=40), \n",
    "                    RANSACRegressor(\n",
    "                        LinearRegression(), min_samples=100, max_trials=250, \n",
    "                        stop_score=0.995, random_state=0, loss='absolute_loss')\n",
    "                    )\n",
    "\n",
    "param_range  = np.arange(4, 30, 2)\n",
    "param_range2 = np.arange(2, 2.5, 0.1)\n",
    "param_grid   = [{'pca__n_components': param_range, \n",
    "                 'ransacregressor__residual_threshold': param_range2}]\n",
    "\n",
    "gs = GridSearchCV(estimator=pip\n",
    "                  , param_grid=param_grid\n",
    "                  , cv=10, \n",
    "                  scoring='neg_mean_squared_error'\n",
    "                 ,n_jobs=-1)"
   ]
  },
  {
   "cell_type": "code",
   "execution_count": 22,
   "metadata": {},
   "outputs": [
    {
     "name": "stderr",
     "output_type": "stream",
     "text": [
      "C:\\ProgramData\\Anaconda3\\lib\\site-packages\\sklearn\\model_selection\\_search.py:814: DeprecationWarning: The default of the `iid` parameter will change from True to False in version 0.22 and will be removed in 0.24. This will change numeric results when test-set sizes are unequal.\n",
      "  DeprecationWarning)\n"
     ]
    }
   ],
   "source": [
    "gs = gs.fit( train_avg_df.iloc[:,:-1].values , train_avg_df['Iodine'].values )"
   ]
  },
  {
   "cell_type": "code",
   "execution_count": 23,
   "metadata": {},
   "outputs": [
    {
     "name": "stdout",
     "output_type": "stream",
     "text": [
      "Best score: -0.9655790845504355\n",
      "{'pca__n_components': 14, 'ransacregressor__residual_threshold': 2.3}\n"
     ]
    }
   ],
   "source": [
    "print('Best score:', gs.best_score_)\n",
    "print(gs.best_params_)"
   ]
  },
  {
   "cell_type": "code",
   "execution_count": 24,
   "metadata": {},
   "outputs": [],
   "source": [
    "output = pd.DataFrame( gs.predict( test_avg_df.iloc[:,:].values))\n",
    "output['Id'] = output.index\n",
    "output=output.rename(columns={ 0: \"label\"})\n",
    "output.to_csv(\"avg_plsr_1.csv\", index=False)"
   ]
  },
  {
   "cell_type": "markdown",
   "metadata": {},
   "source": [
    "# More PLSR - second best prediction"
   ]
  },
  {
   "cell_type": "code",
   "execution_count": 166,
   "metadata": {},
   "outputs": [],
   "source": [
    "train_avg_df = train_df.iloc[:, :].groupby('replicates').mean()\n",
    "test_avg_df = test_df.iloc[:, :].groupby('replicates').mean()"
   ]
  },
  {
   "cell_type": "code",
   "execution_count": 167,
   "metadata": {},
   "outputs": [],
   "source": [
    "comp_range = [ 14,15,16,17,18] \n",
    "scale_range = [True, False] \n",
    "max_iter_range = [10,20,50,100,500]\n",
    "\n",
    "pls6 = make_pipeline( PLSRegression() )\n",
    "\n",
    "param_grid = [ {'plsregression__n_components': comp_range\n",
    "                , 'plsregression__scale': scale_range\n",
    "                , 'plsregression__max_iter': max_iter_range} ]\n",
    "\n",
    "gs = GridSearchCV(estimator=pls6,\n",
    "                param_grid=param_grid,\n",
    "                scoring='neg_mean_squared_error',\n",
    "                cv=10,\n",
    "                n_jobs=-1,\n",
    "                refit=True,\n",
    "                iid= False,\n",
    "                  verbose=0)"
   ]
  },
  {
   "cell_type": "code",
   "execution_count": 168,
   "metadata": {},
   "outputs": [],
   "source": [
    "gs = gs.fit( train_avg_df.iloc[:,:-1].values , train_avg_df['Iodine'].values )"
   ]
  },
  {
   "cell_type": "code",
   "execution_count": 169,
   "metadata": {},
   "outputs": [
    {
     "name": "stdout",
     "output_type": "stream",
     "text": [
      "-0.34293430892609794\n",
      "{'plsregression__max_iter': 10, 'plsregression__n_components': 14, 'plsregression__scale': False}\n"
     ]
    }
   ],
   "source": [
    "print(gs.best_score_)\n",
    "print(gs.best_params_)"
   ]
  },
  {
   "cell_type": "code",
   "execution_count": 170,
   "metadata": {},
   "outputs": [],
   "source": [
    "output = pd.DataFrame( gs.predict( test_avg_df.iloc[:,:].values))\n",
    "output['Id'] = output.index\n",
    "output=output.rename(columns={ 0: \"label\"})\n",
    "output.to_csv(\"avg_plsr_1.csv\", index=False)"
   ]
  },
  {
   "cell_type": "markdown",
   "metadata": {},
   "source": [
    "**MSE on the train dataset. Overfitting??**"
   ]
  },
  {
   "cell_type": "code",
   "execution_count": 171,
   "metadata": {},
   "outputs": [
    {
     "data": {
      "text/plain": [
       "0.052466510927491945"
      ]
     },
     "execution_count": 171,
     "metadata": {},
     "output_type": "execute_result"
    }
   ],
   "source": [
    "mean_squared_error(  train_avg_df['Iodine'].values , gs.predict( train_avg_df.iloc[:,:-1].values )  )"
   ]
  }
 ],
 "metadata": {
  "kernelspec": {
   "display_name": "Python 3",
   "language": "python",
   "name": "python3"
  },
  "language_info": {
   "codemirror_mode": {
    "name": "ipython",
    "version": 3
   },
   "file_extension": ".py",
   "mimetype": "text/x-python",
   "name": "python",
   "nbconvert_exporter": "python",
   "pygments_lexer": "ipython3",
   "version": "3.7.4"
  }
 },
 "nbformat": 4,
 "nbformat_minor": 2
}
