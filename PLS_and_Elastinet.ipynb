{
 "cells": [
  {
   "cell_type": "markdown",
   "metadata": {},
   "source": [
    "# Read input files and define function"
   ]
  },
  {
   "cell_type": "code",
   "execution_count": 1,
   "metadata": {},
   "outputs": [],
   "source": [
    "# -*- coding: utf-8 -*-\n",
    "import numpy as np\n",
    "import pandas as pd\n",
    "import matplotlib.pyplot as plt\n",
    "import pickle \n",
    "\n",
    "#==============================================================================\n",
    "#  Define EMSC\n",
    "#==============================================================================\n",
    "#%% Extended multiplicative signal correction\n",
    "def EMSC(X, reference, degree=4):\n",
    "    # Create polynomials up to chosen degree\n",
    "    poly = []; pvar = [1]\n",
    "    for i in range(degree):\n",
    "        poly.append( np.polyval(pvar,np.linspace(-1,1,len(reference))) )\n",
    "        pvar.append(0)\n",
    "    # Reference spectrum and polynomials\n",
    "    emsc_basis = np.vstack([reference, np.vstack(poly)])\n",
    "    # Estimate EMSC parameters\n",
    "    (params,_,_,_) = np.linalg.lstsq(emsc_basis.T, X.T, rcond=None)\n",
    "    # Correct and return\n",
    "    return (X - params[1:,:].T @ emsc_basis[1:,:])/params[:1,:].T\n",
    "\n",
    "\n",
    "#==============================================================================\n",
    "#  Read train and test file\n",
    "#==============================================================================\n",
    "pickle_train = open(\"train.pkl\",\"rb\")\n",
    "train_object = pickle.load(pickle_train)\n",
    "pickle_test = open(\"test.pkl\",\"rb\")\n",
    "test_object = pickle.load(pickle_test)\n",
    "\n",
    "#==============================================================================\n",
    "#  Read dictionary objects into arrays and Matrices\n",
    "#==============================================================================\n",
    "columns = train_object['shifts'].flatten()\n",
    "X_train = train_object['RamanCal']\n",
    "y_train = train_object['IodineCal']\n",
    "replicates_train = train_object['repCal']\n",
    "\n",
    "X_test = test_object['RamanVal']\n",
    "replicates_test = test_object['repVal']"
   ]
  },
  {
   "cell_type": "markdown",
   "metadata": {},
   "source": [
    "# Technical preprocessing"
   ]
  },
  {
   "cell_type": "code",
   "execution_count": 2,
   "metadata": {},
   "outputs": [],
   "source": [
    "#==============================================================================\n",
    "#  Keep only the shifts between 500 and 3100- train aand test\n",
    "#==============================================================================\n",
    "X_cut_train = X_train[ :, (columns>=500) & (columns<=3100)]\n",
    "colnames = columns[ (columns>=500) & (columns<=3100) ]\n",
    "X_emsc_train = EMSC(X_cut_train, X_cut_train[1343, :]  , degree=7)\n",
    "\n",
    "X_cut_test = X_test[ :, (columns>=500) & (columns<=3100)]\n",
    "X_emsc_test = EMSC(X_cut_test, X_cut_train[1343, :]  , degree=7)"
   ]
  },
  {
   "cell_type": "markdown",
   "metadata": {},
   "source": [
    "# Creating DataFrames which are used later"
   ]
  },
  {
   "cell_type": "code",
   "execution_count": 3,
   "metadata": {},
   "outputs": [],
   "source": [
    "#==============================================================================\n",
    "#  Create dataframes for data visualization\n",
    "#==============================================================================\n",
    "col_str = list( map( str, colnames))\n",
    "col_str.insert(0,'replicates')\n",
    "\n",
    "test_df = pd.DataFrame( np.concatenate( (replicates_test[:, np.newaxis ]\n",
    "            , X_emsc_test), axis =1), columns= col_str)\n",
    "\n",
    "col_str.append('Iodine')\n",
    "\n",
    "train_df = pd.DataFrame( np.concatenate( (replicates_train[:, np.newaxis ]\n",
    "            , X_emsc_train, y_train), axis =1)\n",
    "            , columns= col_str)"
   ]
  },
  {
   "cell_type": "code",
   "execution_count": 18,
   "metadata": {},
   "outputs": [],
   "source": [
    "train_avg_df = train_df.iloc[:, :].groupby('replicates').mean()\n",
    "test_avg_df = test_df.iloc[:, :].groupby('replicates').mean()"
   ]
  },
  {
   "cell_type": "markdown",
   "metadata": {},
   "source": [
    "# PLS Regression as a intermediate step - Regularized\n",
    "## Third best result"
   ]
  },
  {
   "cell_type": "code",
   "execution_count": 19,
   "metadata": {},
   "outputs": [],
   "source": [
    "from sklearn.linear_model import LinearRegression \n",
    "from sklearn.linear_model import ElasticNetCV\n",
    "from sklearn.linear_model import ElasticNet\n",
    "\n",
    "from sklearn.pipeline import  make_pipeline\n",
    "from sklearn.model_selection import GridSearchCV\n",
    "\n",
    "from sklearn.metrics import mean_squared_error\n",
    "from sklearn.preprocessing import StandardScaler\n",
    "\n",
    "from sklearn.cross_decomposition import PLSRegression"
   ]
  },
  {
   "cell_type": "code",
   "execution_count": 20,
   "metadata": {},
   "outputs": [],
   "source": [
    "class PLSRegressionWrapper( PLSRegression):\n",
    "\n",
    "    def transform(self, X):\n",
    "        return super().transform(X)\n",
    "\n",
    "    def fit_transform(self, X, Y):\n",
    "        return self.fit( X,Y).transform(X)"
   ]
  },
  {
   "cell_type": "code",
   "execution_count": 22,
   "metadata": {},
   "outputs": [],
   "source": [
    "# my_pipe = make_pipeline(PLSRegressionWrapper(n_components=4, scale=False), LinearRegression())\n",
    "# my_pipe.fit(X_train,y_train)"
   ]
  },
  {
   "cell_type": "code",
   "execution_count": 23,
   "metadata": {},
   "outputs": [],
   "source": [
    "pls_wrap =  PLSRegressionWrapper(copy=True, max_iter=100, n_components=14,\n",
    "                               scale=False, tol=1e-06)"
   ]
  },
  {
   "cell_type": "code",
   "execution_count": 26,
   "metadata": {},
   "outputs": [
    {
     "data": {
      "text/plain": [
       "(155, 14)"
      ]
     },
     "execution_count": 26,
     "metadata": {},
     "output_type": "execute_result"
    }
   ],
   "source": [
    "pls_train = pls_wrap.fit_transform( train_avg_df.iloc[:,:-1].values , train_avg_df['Iodine'].values )\n",
    "pls_train.shape"
   ]
  },
  {
   "cell_type": "code",
   "execution_count": 28,
   "metadata": {},
   "outputs": [
    {
     "data": {
      "text/plain": [
       "(77, 14)"
      ]
     },
     "execution_count": 28,
     "metadata": {},
     "output_type": "execute_result"
    }
   ],
   "source": [
    "pls_test = pls_wrap.transform(test_avg_df.iloc[:,:].values)\n",
    "pls_test.shape"
   ]
  },
  {
   "cell_type": "code",
   "execution_count": 30,
   "metadata": {},
   "outputs": [],
   "source": [
    "y= train_avg_df['Iodine'].values"
   ]
  },
  {
   "cell_type": "code",
   "execution_count": 31,
   "metadata": {},
   "outputs": [
    {
     "data": {
      "text/plain": [
       "ElasticNetCV(alphas=None, copy_X=True, cv=10, eps=0.001, fit_intercept=True,\n",
       "             l1_ratio=0.5, max_iter=1000, n_alphas=100, n_jobs=None,\n",
       "             normalize=False, positive=False, precompute='auto', random_state=0,\n",
       "             selection='cyclic', tol=0.0001, verbose=0)"
      ]
     },
     "execution_count": 31,
     "metadata": {},
     "output_type": "execute_result"
    }
   ],
   "source": [
    "regr = ElasticNetCV(cv=10, random_state=0)\n",
    "regr.fit(pls_train , y)"
   ]
  },
  {
   "cell_type": "code",
   "execution_count": 32,
   "metadata": {},
   "outputs": [
    {
     "name": "stdout",
     "output_type": "stream",
     "text": [
      "29.282741949805924\n",
      "24.760859999999997\n"
     ]
    }
   ],
   "source": [
    "print(regr.alpha_)\n",
    "print(regr.intercept_)"
   ]
  },
  {
   "cell_type": "code",
   "execution_count": 38,
   "metadata": {},
   "outputs": [
    {
     "name": "stdout",
     "output_type": "stream",
     "text": [
      "l1 ratio:  0.5\n",
      "coeffs:  [-0.00039013  0.00012346  0.00042981  0.00027377 -0.00031605  0.00043853\n",
      " -0.00022825  0.00032238 -0.00051599 -0.0007331   0.00058015 -0.00030464\n",
      " -0.00030282 -0.00031607]\n",
      "mse for all :  0.04145264158938757\n",
      "alphas : 29.282741949805924\n",
      " number of iterations:  2\n"
     ]
    }
   ],
   "source": [
    "print( 'l1 ratio: ' , regr.l1_ratio_)\n",
    "\n",
    "print( 'coeffs: ' , regr.coef_) \n",
    "\n",
    "print ('mse for all : ',  np.min( regr.mse_path_) )\n",
    "\n",
    "print( 'alphas :' , np.min( regr.alphas_) )\n",
    "\n",
    "print( ' number of iterations: ', regr.n_iter_ )"
   ]
  },
  {
   "cell_type": "code",
   "execution_count": 40,
   "metadata": {},
   "outputs": [],
   "source": [
    "y_test = regr.predict( pls_test)"
   ]
  },
  {
   "cell_type": "code",
   "execution_count": 41,
   "metadata": {},
   "outputs": [],
   "source": [
    "output = pd.DataFrame( y_test )\n",
    "output['Id'] = output.index\n",
    "output=output.rename(columns={ 0: \"label\"})\n",
    "output.to_csv(\"pls_elastinet.csv\", index=False)"
   ]
  }
 ],
 "metadata": {
  "kernelspec": {
   "display_name": "Python 3",
   "language": "python",
   "name": "python3"
  },
  "language_info": {
   "codemirror_mode": {
    "name": "ipython",
    "version": 3
   },
   "file_extension": ".py",
   "mimetype": "text/x-python",
   "name": "python",
   "nbconvert_exporter": "python",
   "pygments_lexer": "ipython3",
   "version": "3.7.4"
  }
 },
 "nbformat": 4,
 "nbformat_minor": 2
}
