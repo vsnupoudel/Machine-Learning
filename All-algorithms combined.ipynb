{
 "cells": [
  {
   "cell_type": "markdown",
   "metadata": {},
   "source": [
    "# Start for Random forest in a grid"
   ]
  },
  {
   "cell_type": "code",
   "execution_count": 24,
   "metadata": {},
   "outputs": [],
   "source": [
    "import numpy as np \n",
    "import pandas as pd \n",
    "import matplotlib.pyplot as plt"
   ]
  },
  {
   "cell_type": "code",
   "execution_count": 25,
   "metadata": {},
   "outputs": [],
   "source": [
    "df = pd.read_csv(\"glassTrain.csv\",  index_col=0)    \n",
    "df_test = pd.read_csv(\"glassTest.csv\",  index_col=0)    "
   ]
  },
  {
   "cell_type": "markdown",
   "metadata": {},
   "source": [
    "## Using the best features given by mlxtend feature selection"
   ]
  },
  {
   "cell_type": "code",
   "execution_count": 4,
   "metadata": {},
   "outputs": [],
   "source": [
    "mlx_df = df[ ['RI', 'Na', 'Mg', 'Si', 'K', 'Ba', 'Fe', 'type'] ]\n",
    "mlx_test_df = df_test[['RI', 'Na', 'Mg', 'Si', 'K', 'Ba', 'Fe'] ]\n",
    "\n",
    "X_test = mlx_test_df.values\n",
    "X = mlx_df.iloc[:, :-1 ].values\n",
    "y = mlx_df.iloc[:, -1: ].values.flatten()"
   ]
  },
  {
   "cell_type": "code",
   "execution_count": 5,
   "metadata": {},
   "outputs": [],
   "source": [
    "from sklearn.pipeline import make_pipeline\n",
    "from sklearn.model_selection import GridSearchCV\n",
    "from sklearn.ensemble import RandomForestClassifier"
   ]
  },
  {
   "cell_type": "code",
   "execution_count": 6,
   "metadata": {},
   "outputs": [],
   "source": [
    "rf_pipe = make_pipeline( RandomForestClassifier( n_estimators=500\n",
    "                             , max_depth= 100\n",
    "                            , n_jobs=-1))"
   ]
  },
  {
   "cell_type": "code",
   "execution_count": 7,
   "metadata": {},
   "outputs": [
    {
     "data": {
      "text/plain": [
       "Pipeline(memory=None,\n",
       "         steps=[('randomforestclassifier',\n",
       "                 RandomForestClassifier(bootstrap=True, class_weight=None,\n",
       "                                        criterion='gini', max_depth=100,\n",
       "                                        max_features='auto',\n",
       "                                        max_leaf_nodes=None,\n",
       "                                        min_impurity_decrease=0.0,\n",
       "                                        min_impurity_split=None,\n",
       "                                        min_samples_leaf=1, min_samples_split=2,\n",
       "                                        min_weight_fraction_leaf=0.0,\n",
       "                                        n_estimators=500, n_jobs=-1,\n",
       "                                        oob_score=False, random_state=None,\n",
       "                                        verbose=0, warm_start=False))],\n",
       "         verbose=False)"
      ]
     },
     "execution_count": 7,
     "metadata": {},
     "output_type": "execute_result"
    }
   ],
   "source": [
    "rf_pipe.fit(X,y)"
   ]
  },
  {
   "cell_type": "markdown",
   "metadata": {},
   "source": [
    "## Use Random forest pipeline with grid"
   ]
  },
  {
   "cell_type": "code",
   "execution_count": 26,
   "metadata": {},
   "outputs": [],
   "source": [
    "depth_range = { 'randomforestclassifier__max_depth' :[5, 10, 15, 25, 50, 100] }\n",
    "\n",
    "gs = GridSearchCV(estimator=rf_pipe, \n",
    "                  param_grid=depth_range, \n",
    "                  scoring='f1_macro', \n",
    "                  cv=6,\n",
    "                  n_jobs=-1,\n",
    "                 iid= True)\n",
    "\n",
    "gs = gs.fit(X, y)"
   ]
  },
  {
   "cell_type": "code",
   "execution_count": 27,
   "metadata": {},
   "outputs": [
    {
     "name": "stdout",
     "output_type": "stream",
     "text": [
      "0.6202102286525855\n",
      "{'randomforestclassifier__max_depth': 15}\n"
     ]
    }
   ],
   "source": [
    "print(gs.best_score_)\n",
    "print(gs.best_params_)"
   ]
  },
  {
   "cell_type": "code",
   "execution_count": 28,
   "metadata": {},
   "outputs": [],
   "source": [
    "y_pred_test =  gs.predict(X_test).astype(int)\n",
    "output = pd.DataFrame( y_pred_test)\n",
    "output['Id'] = output.index\n",
    "output=output.rename(columns={ 0: \"label\"})\n",
    "output.to_csv(\"submission_test_gsrf_f1_macro.csv\", index=False)"
   ]
  },
  {
   "cell_type": "code",
   "execution_count": 29,
   "metadata": {},
   "outputs": [],
   "source": [
    "# import sklearn\n",
    "# sorted(sklearn.metrics.SCORERS.keys())"
   ]
  },
  {
   "cell_type": "markdown",
   "metadata": {},
   "source": [
    "## Random forest with nested CV"
   ]
  },
  {
   "cell_type": "code",
   "execution_count": 30,
   "metadata": {},
   "outputs": [
    {
     "data": {
      "text/plain": [
       "array([0.65306122, 0.625     , 0.60869565])"
      ]
     },
     "execution_count": 30,
     "metadata": {},
     "output_type": "execute_result"
    }
   ],
   "source": [
    "from sklearn.model_selection import cross_val_score\n",
    "depth_range = { 'randomforestclassifier__max_depth' :[5, 10, 15, 25, 50, 100] }\n",
    "\n",
    "\n",
    "gs = GridSearchCV(estimator=rf_pipe, \n",
    "                  param_grid=depth_range, \n",
    "                  scoring='accuracy', \n",
    "                  cv=3,\n",
    "                  n_jobs=-1,\n",
    "                 iid= True)\n",
    "\n",
    "\n",
    "\n",
    "scores = cross_val_score(gs, X, y, scoring='accuracy', cv=3)\n",
    "scores"
   ]
  },
  {
   "cell_type": "code",
   "execution_count": 31,
   "metadata": {},
   "outputs": [
    {
     "data": {
      "text/plain": [
       "GridSearchCV(cv=3, error_score='raise-deprecating',\n",
       "             estimator=Pipeline(memory=None,\n",
       "                                steps=[('randomforestclassifier',\n",
       "                                        RandomForestClassifier(bootstrap=True,\n",
       "                                                               class_weight=None,\n",
       "                                                               criterion='gini',\n",
       "                                                               max_depth=100,\n",
       "                                                               max_features='auto',\n",
       "                                                               max_leaf_nodes=None,\n",
       "                                                               min_impurity_decrease=0.0,\n",
       "                                                               min_impurity_split=None,\n",
       "                                                               min_samples_leaf=1,\n",
       "                                                               min_samples_split=2,\n",
       "                                                               min_weight_fraction_leaf=0.0,\n",
       "                                                               n_estimators=500,\n",
       "                                                               n_jobs=-1,\n",
       "                                                               oob_score=False,\n",
       "                                                               random_state=None,\n",
       "                                                               verbose=0,\n",
       "                                                               warm_start=False))],\n",
       "                                verbose=False),\n",
       "             iid=True, n_jobs=-1,\n",
       "             param_grid={'randomforestclassifier__max_depth': [5, 10, 15, 25,\n",
       "                                                               50, 100]},\n",
       "             pre_dispatch='2*n_jobs', refit=True, return_train_score=False,\n",
       "             scoring='accuracy', verbose=0)"
      ]
     },
     "execution_count": 31,
     "metadata": {},
     "output_type": "execute_result"
    }
   ],
   "source": [
    "gs.fit(X,y)"
   ]
  },
  {
   "cell_type": "code",
   "execution_count": 32,
   "metadata": {},
   "outputs": [
    {
     "name": "stdout",
     "output_type": "stream",
     "text": [
      "[[46  1  0  0  0  0]\n",
      " [ 3 48  0  0  0  0]\n",
      " [ 4  6  1  0  0  0]\n",
      " [ 0  0  0  9  0  0]\n",
      " [ 0  0  0  0  6  0]\n",
      " [ 1  0  0  0  0 18]]\n"
     ]
    }
   ],
   "source": [
    "y_pred = gs.predict(X)\n",
    "from sklearn.metrics import confusion_matrix\n",
    "confmat = confusion_matrix(y_true=y, y_pred=y_pred, labels=[1, 2, 3, 5, 6, 7] )\n",
    "print(confmat)"
   ]
  },
  {
   "cell_type": "code",
   "execution_count": 33,
   "metadata": {},
   "outputs": [
    {
     "data": {
      "text/plain": [
       "2    51\n",
       "1    47\n",
       "7    19\n",
       "3    11\n",
       "5     9\n",
       "6     6\n",
       "Name: type, dtype: int64"
      ]
     },
     "execution_count": 33,
     "metadata": {},
     "output_type": "execute_result"
    }
   ],
   "source": [
    "df.type.value_counts()"
   ]
  },
  {
   "cell_type": "markdown",
   "metadata": {},
   "source": [
    "## Plot confusion matrix"
   ]
  },
  {
   "cell_type": "code",
   "execution_count": 35,
   "metadata": {},
   "outputs": [
    {
     "data": {
      "image/png": "[encoded data removed]",
      "text/plain": [
       "<Figure size 432x288 with 1 Axes>"
      ]
     },
     "metadata": {
      "needs_background": "light"
     },
     "output_type": "display_data"
    }
   ],
   "source": [
    "fig, ax = plt.subplots()\n",
    "ax.matshow(confmat, cmap=plt.cm.Blues, alpha=0.3)\n",
    "labels=[ 1, 2, 3, 5, 6, 7] \n",
    "for i, ii in enumerate(labels):\n",
    "    for j, jj in enumerate(labels):\n",
    "        ax.text(x=j, y=i, s=confmat[i, j], va='center', ha='center', fontsize=16, color='red')\n",
    "\n",
    "plt.xlabel('Predicted label')\n",
    "plt.ylabel('True label')\n",
    "\n",
    "plt.xticks(ticks=[0,1,2,3,4,5] , labels=labels )\n",
    "plt.yticks(ticks=[0,1,2,3,4,5] , labels=labels )\n",
    "plt.show()"
   ]
  },
  {
   "cell_type": "markdown",
   "metadata": {},
   "source": [
    "# Start of SVC"
   ]
  },
  {
   "cell_type": "code",
   "execution_count": 36,
   "metadata": {},
   "outputs": [],
   "source": [
    "from sklearn.model_selection import train_test_split\n",
    "X_train, X_cross, y_train, y_cross = train_test_split(X, y , test_size=0.3, stratify=y, random_state=1)"
   ]
  },
  {
   "cell_type": "code",
   "execution_count": 37,
   "metadata": {},
   "outputs": [],
   "source": [
    "from sklearn.svm import SVC\n",
    "from sklearn.preprocessing import StandardScaler\n",
    "from sklearn.pipeline import make_pipeline\n",
    "from sklearn.model_selection import GridSearchCV"
   ]
  },
  {
   "cell_type": "code",
   "execution_count": 38,
   "metadata": {},
   "outputs": [
    {
     "name": "stdout",
     "output_type": "stream",
     "text": [
      "0.7062937062937062\n",
      "{'svc__C': 100.0, 'svc__gamma': 0.01}\n"
     ]
    },
    {
     "name": "stderr",
     "output_type": "stream",
     "text": [
      "C:\\ProgramData\\Anaconda3\\lib\\site-packages\\sklearn\\model_selection\\_search.py:814: DeprecationWarning: The default of the `iid` parameter will change from True to False in version 0.22 and will be removed in 0.24. This will change numeric results when test-set sizes are unequal.\n",
      "  DeprecationWarning)\n"
     ]
    }
   ],
   "source": [
    "# make pipeline\n",
    "pipe_svc = make_pipeline(StandardScaler(), SVC(kernel='rbf',random_state=1))\n",
    "\n",
    "# Define ranges of parameter values:\n",
    "param_range  = [0.0001, 0.001, 0.01, 0.1, 1.0, 10.0, 100.0, 1000.0] # For regularization parameter C.\n",
    "param_range2 = [0.0001, 0.001, 0.01, 0.1, 1.0, 10.0, 100.0]         # For scaling parameter gamma og rbf-kernel.\n",
    "\n",
    "param_grid   = [ {'svc__C': param_range, 'svc__gamma': param_range2  }  ]\n",
    "             \n",
    "gs = GridSearchCV(estimator=pipe_svc, \n",
    "                  param_grid=param_grid, \n",
    "                  scoring='accuracy', \n",
    "                  cv=6,\n",
    "                  n_jobs=-1)\n",
    "\n",
    "gs = gs.fit(X, y)\n",
    "print(gs.best_score_)\n",
    "print(gs.best_params_)"
   ]
  },
  {
   "cell_type": "code",
   "execution_count": 39,
   "metadata": {},
   "outputs": [],
   "source": [
    "scores = gs.cv_results_['mean_test_score'].reshape(len(param_range),len(param_range2))"
   ]
  },
  {
   "cell_type": "code",
   "execution_count": 40,
   "metadata": {},
   "outputs": [
    {
     "data": {
      "image/png": "[encoded data removed]",
      "text/plain": [
       "<Figure size 576x432 with 2 Axes>"
      ]
     },
     "metadata": {
      "needs_background": "light"
     },
     "output_type": "display_data"
    }
   ],
   "source": [
    "plt.figure(figsize=(8, 6))\n",
    "plt.subplots_adjust(left=.2, right=0.95, bottom=0.15, top=0.95)\n",
    "plt.imshow(scores, interpolation='nearest', cmap=plt.cm.hot)\n",
    "plt.xlabel('gamma') # 1/(softness of decision boundary), i.e. small = soft\n",
    "plt.ylabel('C')     # 1/(size of support vector margin), i.e. large = tight margin\n",
    "plt.colorbar()\n",
    "plt.xticks(np.arange(len(param_range2)), param_range2)\n",
    "plt.yticks(np.arange(len(param_range)), param_range)\n",
    "plt.title('Grid Search Accuracy Score')\n",
    "plt.show()"
   ]
  },
  {
   "cell_type": "markdown",
   "metadata": {},
   "source": [
    "## Fine Tune gamma and C"
   ]
  },
  {
   "cell_type": "code",
   "execution_count": 41,
   "metadata": {},
   "outputs": [
    {
     "name": "stdout",
     "output_type": "stream",
     "text": [
      "0.7062937062937062\n",
      "{'svc__C': 90.0, 'svc__gamma': 0.01}\n"
     ]
    },
    {
     "name": "stderr",
     "output_type": "stream",
     "text": [
      "C:\\ProgramData\\Anaconda3\\lib\\site-packages\\sklearn\\model_selection\\_search.py:814: DeprecationWarning: The default of the `iid` parameter will change from True to False in version 0.22 and will be removed in 0.24. This will change numeric results when test-set sizes are unequal.\n",
      "  DeprecationWarning)\n"
     ]
    }
   ],
   "source": [
    "# make pipeline\n",
    "pipe_svc = make_pipeline(StandardScaler(), SVC(kernel='rbf',random_state=1))\n",
    "\n",
    "# Define ranges of parameter values:\n",
    "param_range  = [10.0, 20.0, 30.0, 40.0, 50.0, 60.0, 70.0, 80.0, 90.0, 100.0] # For regularization parameter C.\n",
    "param_range2 = [0.01,0.002,0.003, 0.004,0.005,0.006, 0.007,0.008,0.009, 0.1] # For scaling parameter gamma og rbf-kernel.\n",
    "\n",
    "param_grid   = [ {'svc__C': param_range, 'svc__gamma': param_range2  }  ]\n",
    "\n",
    "             \n",
    "gs = GridSearchCV(estimator=pipe_svc, \n",
    "                  param_grid=param_grid, \n",
    "                  scoring='accuracy', \n",
    "                  cv=6,\n",
    "                  n_jobs=-1)\n",
    "\n",
    "gs = gs.fit(X, y)\n",
    "print(gs.best_score_)\n",
    "print(gs.best_params_)"
   ]
  },
  {
   "cell_type": "code",
   "execution_count": 42,
   "metadata": {},
   "outputs": [],
   "source": [
    "scores = gs.cv_results_['mean_test_score'].reshape(len(param_range),len(param_range2))"
   ]
  },
  {
   "cell_type": "code",
   "execution_count": 43,
   "metadata": {},
   "outputs": [
    {
     "data": {
      "image/png": "[encoded data removed]",
      "text/plain": [
       "<Figure size 576x432 with 2 Axes>"
      ]
     },
     "metadata": {
      "needs_background": "light"
     },
     "output_type": "display_data"
    }
   ],
   "source": [
    "plt.figure(figsize=(8, 6))\n",
    "plt.subplots_adjust(left=.2, right=0.95, bottom=0.15, top=0.95)\n",
    "plt.imshow(scores, interpolation='nearest', cmap=plt.cm.hot)\n",
    "plt.xlabel('gamma') # 1/(softness of decision boundary), i.e. small = soft\n",
    "plt.ylabel('C')     # 1/(size of support vector margin), i.e. large = tight margin\n",
    "plt.colorbar()\n",
    "plt.xticks(np.arange(len(param_range2)), param_range2)\n",
    "plt.yticks(np.arange(len(param_range)), param_range)\n",
    "plt.title('Grid Search Accuracy Score')\n",
    "plt.show()"
   ]
  },
  {
   "cell_type": "markdown",
   "metadata": {},
   "source": [
    "##  Nested Cross Validation"
   ]
  },
  {
   "cell_type": "code",
   "execution_count": 44,
   "metadata": {},
   "outputs": [
    {
     "name": "stdout",
     "output_type": "stream",
     "text": [
      "CV accuracy: 0.651 +/- 0.089\n"
     ]
    }
   ],
   "source": [
    "from sklearn.model_selection import cross_val_score\n",
    "\n",
    "pipe_svc = make_pipeline(StandardScaler(), SVC(kernel='rbf',random_state=1))\n",
    "param_range  = [10.0, 20.0, 30.0, 40.0, 50.0, 60.0, 70.0, 80.0, 90.0, 100.0] # For regularization parameter C.\n",
    "param_range2 = [0.01,0.002,0.003, 0.004,0.005,0.006, 0.007,0.008,0.009, 0.1] # For scaling parameter gamma og rbf-kernel.\n",
    "\n",
    "inner_segments = 3\n",
    "outer_segments = 5\n",
    "n_models = inner_segments*outer_segments*len(param_grid)\n",
    "gs = GridSearchCV(estimator  = pipe_svc,\n",
    "                  param_grid = param_grid,\n",
    "                  scoring    = 'accuracy',\n",
    "                  iid        = 'True', # Parameter to be removed (weight score by size of segment)\n",
    "                  cv         = inner_segments)\n",
    "\n",
    "\n",
    "scores = cross_val_score(gs, X, y, \n",
    "                         scoring='accuracy', cv=outer_segments)\n",
    "\n",
    "print('CV accuracy: %.3f +/- %.3f' % (np.mean(scores),\n",
    "                                      np.std(scores)))"
   ]
  },
  {
   "cell_type": "code",
   "execution_count": 45,
   "metadata": {},
   "outputs": [
    {
     "data": {
      "text/plain": [
       "GridSearchCV(cv=3, error_score='raise-deprecating',\n",
       "             estimator=Pipeline(memory=None,\n",
       "                                steps=[('standardscaler',\n",
       "                                        StandardScaler(copy=True,\n",
       "                                                       with_mean=True,\n",
       "                                                       with_std=True)),\n",
       "                                       ('svc',\n",
       "                                        SVC(C=1.0, cache_size=200,\n",
       "                                            class_weight=None, coef0=0.0,\n",
       "                                            decision_function_shape='ovr',\n",
       "                                            degree=3, gamma='auto_deprecated',\n",
       "                                            kernel='rbf', max_iter=-1,\n",
       "                                            probability=False, random_state=1,\n",
       "                                            shrinking=True, tol=0.001,\n",
       "                                            verbose=False))],\n",
       "                                verbose=False),\n",
       "             iid='True', n_jobs=None,\n",
       "             param_grid=[{'svc__C': [10.0, 20.0, 30.0, 40.0, 50.0, 60.0, 70.0,\n",
       "                                     80.0, 90.0, 100.0],\n",
       "                          'svc__gamma': [0.01, 0.002, 0.003, 0.004, 0.005,\n",
       "                                         0.006, 0.007, 0.008, 0.009, 0.1]}],\n",
       "             pre_dispatch='2*n_jobs', refit=True, return_train_score=False,\n",
       "             scoring='accuracy', verbose=0)"
      ]
     },
     "execution_count": 45,
     "metadata": {},
     "output_type": "execute_result"
    }
   ],
   "source": [
    "gs.fit(X,y)"
   ]
  },
  {
   "cell_type": "code",
   "execution_count": 46,
   "metadata": {},
   "outputs": [],
   "source": [
    "y_pred_test =  gs.predict(X_test).astype(int)\n",
    "\n",
    "output = pd.DataFrame( y_pred_test)\n",
    "output.to_csv(\"submission_test_gs.csv\")"
   ]
  },
  {
   "cell_type": "markdown",
   "metadata": {},
   "source": [
    "## Confusion Matrix"
   ]
  },
  {
   "cell_type": "code",
   "execution_count": 48,
   "metadata": {},
   "outputs": [
    {
     "name": "stdout",
     "output_type": "stream",
     "text": [
      "[[44  3  0  0  0  0]\n",
      " [ 9 42  0  0  0  0]\n",
      " [ 3  7  1  0  0  0]\n",
      " [ 0  0  0  9  0  0]\n",
      " [ 0  0  0  0  6  0]\n",
      " [ 1  0  0  0  0 18]]\n"
     ]
    }
   ],
   "source": [
    "y_pred = gs.predict(X)\n",
    "from sklearn.metrics import confusion_matrix\n",
    "confmat = confusion_matrix(y_true=y, y_pred=y_pred, labels=[1, 2, 3, 5, 6, 7] )\n",
    "print(confmat)"
   ]
  },
  {
   "cell_type": "code",
   "execution_count": 49,
   "metadata": {},
   "outputs": [
    {
     "data": {
      "image/png": "[encoded data removed]",
      "text/plain": [
       "<Figure size 432x288 with 1 Axes>"
      ]
     },
     "metadata": {
      "needs_background": "light"
     },
     "output_type": "display_data"
    }
   ],
   "source": [
    "fig, ax = plt.subplots()\n",
    "ax.matshow(confmat, cmap=plt.cm.Blues, alpha=0.3)\n",
    "labels=[ 1, 2, 3, 5, 6, 7] \n",
    "for i, ii in enumerate(labels):\n",
    "    for j, jj in enumerate(labels):\n",
    "        ax.text(x=j, y=i, s=confmat[i, j], va='center', ha='center', fontsize=16, color='red')\n",
    "\n",
    "plt.xlabel('Predicted label')\n",
    "plt.ylabel('True label')\n",
    "\n",
    "plt.xticks(ticks=[0,1,2,3,4,5] , labels=labels )\n",
    "plt.yticks(ticks=[0,1,2,3,4,5] , labels=labels )\n",
    "plt.show()"
   ]
  },
  {
   "cell_type": "markdown",
   "metadata": {},
   "source": [
    "# Start of KPCA pipe"
   ]
  },
  {
   "cell_type": "code",
   "execution_count": 50,
   "metadata": {},
   "outputs": [],
   "source": [
    "df = pd.read_csv(\"glassTrain.csv\",  index_col=0)    \n",
    "df_test = pd.read_csv(\"glassTest.csv\",  index_col=0)    "
   ]
  },
  {
   "cell_type": "code",
   "execution_count": 51,
   "metadata": {},
   "outputs": [],
   "source": [
    "X_test = df_test.values\n",
    "X = df.iloc[:, :-1 ].values\n",
    "y = df.iloc[:, -1: ].values.flatten()"
   ]
  },
  {
   "cell_type": "code",
   "execution_count": 52,
   "metadata": {},
   "outputs": [],
   "source": [
    "from sklearn.decomposition import PCA\n",
    "from sklearn.model_selection import train_test_split\n",
    "from sklearn.preprocessing import StandardScaler\n",
    "from sklearn.linear_model import LogisticRegression\n",
    "from sklearn.decomposition import KernelPCA\n",
    "from sklearn.ensemble import RandomForestClassifier\n",
    "from sklearn.pipeline import make_pipeline\n",
    "from sklearn.model_selection import GridSearchCV"
   ]
  },
  {
   "cell_type": "code",
   "execution_count": 53,
   "metadata": {},
   "outputs": [],
   "source": [
    "X_train, X_cross, y_train, y_cross = train_test_split( X, y , test_size=0.3, stratify=y, random_state=0)\n",
    "\n",
    "# make pipeline\n",
    "pipe_kpca = make_pipeline(StandardScaler(),  KernelPCA(degree=5), LogisticRegression(solver='lbfgs',multi_class='auto') )"
   ]
  },
  {
   "cell_type": "code",
   "execution_count": 54,
   "metadata": {},
   "outputs": [
    {
     "data": {
      "text/plain": [
       "Pipeline(memory=None,\n",
       "         steps=[('standardscaler',\n",
       "                 StandardScaler(copy=True, with_mean=True, with_std=True)),\n",
       "                ('kernelpca',\n",
       "                 KernelPCA(alpha=1.0, coef0=1, copy_X=True, degree=5,\n",
       "                           eigen_solver='auto', fit_inverse_transform=False,\n",
       "                           gamma=None, kernel='linear', kernel_params=None,\n",
       "                           max_iter=None, n_components=None, n_jobs=None,\n",
       "                           random_state=None, remove_zero_eig=False, tol=0)),\n",
       "                ('logisticregression',\n",
       "                 LogisticRegression(C=1.0, class_weight=None, dual=False,\n",
       "                                    fit_intercept=True, intercept_scaling=1,\n",
       "                                    l1_ratio=None, max_iter=100,\n",
       "                                    multi_class='auto', n_jobs=None,\n",
       "                                    penalty='l2', random_state=None,\n",
       "                                    solver='lbfgs', tol=0.0001, verbose=0,\n",
       "                                    warm_start=False))],\n",
       "         verbose=False)"
      ]
     },
     "execution_count": 54,
     "metadata": {},
     "output_type": "execute_result"
    }
   ],
   "source": [
    "pipe_kpca.fit(X,y)"
   ]
  },
  {
   "cell_type": "code",
   "execution_count": 55,
   "metadata": {},
   "outputs": [],
   "source": [
    "# Define ranges of parameter values:\n",
    "# gamma_range = [0.0001, 0.001, 0.01, 0.1, 1.0, 10.0, 100.0]  # For scaling parameter gamma og rbf-kernel.\n",
    "C_range = [0.0001, 0.001, 0.01, 0.1, 1.0, 10.0, 100.0]\n",
    "solver_range = ['liblinear', 'newton-cg', 'lbfgs', 'sag', 'saga']\n",
    "\n",
    "param_grid   = [ {'logisticregression__C': C_range, 'logisticregression__solver': solver_range  }  ]\n",
    "            \n",
    "gs = GridSearchCV(estimator=pipe_kpca, \n",
    "                  param_grid=param_grid, \n",
    "                  scoring='accuracy', \n",
    "                  cv=6,\n",
    "                  n_jobs=-1)"
   ]
  },
  {
   "cell_type": "code",
   "execution_count": 56,
   "metadata": {},
   "outputs": [
    {
     "name": "stdout",
     "output_type": "stream",
     "text": [
      "0.5944055944055944\n",
      "{'logisticregression__C': 100.0, 'logisticregression__solver': 'newton-cg'}\n"
     ]
    },
    {
     "name": "stderr",
     "output_type": "stream",
     "text": [
      "C:\\ProgramData\\Anaconda3\\lib\\site-packages\\sklearn\\model_selection\\_search.py:814: DeprecationWarning: The default of the `iid` parameter will change from True to False in version 0.22 and will be removed in 0.24. This will change numeric results when test-set sizes are unequal.\n",
      "  DeprecationWarning)\n"
     ]
    }
   ],
   "source": [
    "gs = gs.fit(X, y)\n",
    "print(gs.best_score_)\n",
    "print(gs.best_params_)"
   ]
  },
  {
   "cell_type": "code",
   "execution_count": 57,
   "metadata": {},
   "outputs": [],
   "source": [
    "y_test =  gs.predict(X_test).astype(int)\n",
    "output = pd.DataFrame( y_test)\n",
    "output.to_csv(\"submission_test_gs_lr.csv\")"
   ]
  },
  {
   "cell_type": "markdown",
   "metadata": {},
   "source": [
    "## Confusion matrix"
   ]
  },
  {
   "cell_type": "code",
   "execution_count": 58,
   "metadata": {},
   "outputs": [
    {
     "name": "stdout",
     "output_type": "stream",
     "text": [
      "[[37 10  0  0  0  0]\n",
      " [11 35  4  1  0  0]\n",
      " [ 2  3  6  0  0  0]\n",
      " [ 0  1  0  8  0  0]\n",
      " [ 0  0  0  0  6  0]\n",
      " [ 0  0  0  0  0 19]]\n"
     ]
    }
   ],
   "source": [
    "y_pred = gs.predict(X)\n",
    "from sklearn.metrics import confusion_matrix\n",
    "confmat = confusion_matrix(y_true=y, y_pred=y_pred, labels=[1, 2, 3, 5, 6, 7] )\n",
    "print(confmat)"
   ]
  },
  {
   "cell_type": "code",
   "execution_count": 59,
   "metadata": {},
   "outputs": [
    {
     "data": {
      "image/png": "[encoded data removed]",
      "text/plain": [
       "<Figure size 432x288 with 1 Axes>"
      ]
     },
     "metadata": {
      "needs_background": "light"
     },
     "output_type": "display_data"
    }
   ],
   "source": [
    "fig, ax = plt.subplots()\n",
    "ax.matshow(confmat, cmap=plt.cm.Blues, alpha=0.3)\n",
    "labels=[ 1, 2, 3, 5, 6, 7] \n",
    "for i, ii in enumerate(labels):\n",
    "    for j, jj in enumerate(labels):\n",
    "        ax.text(x=j, y=i, s=confmat[i, j], va='center', ha='center', fontsize=16, color='red')\n",
    "\n",
    "plt.xlabel('Predicted label')\n",
    "plt.ylabel('True label')\n",
    "\n",
    "plt.xticks(ticks=[0,1,2,3,4,5] , labels=labels )\n",
    "plt.yticks(ticks=[0,1,2,3,4,5] , labels=labels )\n",
    "plt.show()"
   ]
  },
  {
   "cell_type": "code",
   "execution_count": null,
   "metadata": {},
   "outputs": [],
   "source": []
  }
 ],
 "metadata": {
  "kernelspec": {
   "display_name": "Python 3",
   "language": "python",
   "name": "python3"
  },
  "language_info": {
   "codemirror_mode": {
    "name": "ipython",
    "version": 3
   },
   "file_extension": ".py",
   "mimetype": "text/x-python",
   "name": "python",
   "nbconvert_exporter": "python",
   "pygments_lexer": "ipython3",
   "version": "3.7.4"
  }
 },
 "nbformat": 4,
 "nbformat_minor": 2
}
