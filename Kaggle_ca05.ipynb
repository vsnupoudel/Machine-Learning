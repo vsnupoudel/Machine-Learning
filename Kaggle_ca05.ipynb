{
 "cells": [
  {
   "cell_type": "code",
   "execution_count": 1,
   "metadata": {},
   "outputs": [],
   "source": [
    "# -*- coding: utf-8 -*-\n",
    "import numpy as np\n",
    "import pandas as pd\n",
    "import matplotlib.pyplot as plt\n",
    "import pickle \n",
    "\n",
    "#==============================================================================\n",
    "#  Define EMSC\n",
    "#==============================================================================\n",
    "#%% Extended multiplicative signal correction\n",
    "def EMSC(X, reference, degree=4):\n",
    "    # Create polynomials up to chosen degree\n",
    "    poly = []; pvar = [1]\n",
    "    for i in range(degree):\n",
    "        poly.append( np.polyval(pvar,np.linspace(-1,1,len(reference))) )\n",
    "        pvar.append(0)\n",
    "    # Reference spectrum and polynomials\n",
    "    emsc_basis = np.vstack([reference, np.vstack(poly)])\n",
    "    # Estimate EMSC parameters\n",
    "    (params,_,_,_) = np.linalg.lstsq(emsc_basis.T, X.T, rcond=None)\n",
    "    # Correct and return\n",
    "    return (X - params[1:,:].T @ emsc_basis[1:,:])/params[:1,:].T\n",
    "\n",
    "\n",
    "#==============================================================================\n",
    "#  Read train and test file\n",
    "#==============================================================================\n",
    "pickle_train = open(\"train.pkl\",\"rb\")\n",
    "train_object = pickle.load(pickle_train)\n",
    "pickle_test = open(\"test.pkl\",\"rb\")\n",
    "test_object = pickle.load(pickle_test)\n",
    "\n",
    "#==============================================================================\n",
    "#  Read dictionary objects into arrays and Matrices\n",
    "#==============================================================================\n",
    "columns = train_object['shifts'].flatten()\n",
    "X_train = train_object['RamanCal']\n",
    "y_train = train_object['IodineCal']\n",
    "replicates_train = train_object['repCal']\n",
    "\n",
    "X_test = test_object['RamanVal']\n",
    "replicates_test = test_object['repVal']\n"
   ]
  },
  {
   "cell_type": "code",
   "execution_count": 2,
   "metadata": {},
   "outputs": [],
   "source": [
    "\n",
    "#==============================================================================\n",
    "#  Keep only the shifts between 500 and 3100- train aand test\n",
    "#==============================================================================\n",
    "X_cut_train = X_train[ :, (columns>=500) & (columns<=3100)]\n",
    "colnames = columns[ (columns>=500) & (columns<=3100) ]\n",
    "X_emsc_train = EMSC(X_cut_train, X_cut_train[1343, :]  , degree=7)\n",
    "\n",
    "X_cut_test = X_test[ :, (columns>=500) & (columns<=3100)]\n",
    "X_emsc_test = EMSC(X_cut_test, X_cut_train[1343, :]  , degree=7)"
   ]
  },
  {
   "cell_type": "code",
   "execution_count": 3,
   "metadata": {},
   "outputs": [],
   "source": [
    "#==============================================================================\n",
    "#  Create dataframes for data visualization\n",
    "#==============================================================================\n",
    "col_str = list( map( str, colnames))\n",
    "col_str.insert(0,'replicates')\n",
    "\n",
    "test_df = pd.DataFrame( np.concatenate( (replicates_test[:, np.newaxis ]\n",
    "            , X_emsc_test), axis =1), columns= col_str)\n",
    "\n",
    "col_str.append('Iodine')\n",
    "\n",
    "train_df = pd.DataFrame( np.concatenate( (replicates_train[:, np.newaxis ]\n",
    "            , X_emsc_train, y_train), axis =1)\n",
    "            , columns= col_str)"
   ]
  },
  {
   "cell_type": "code",
   "execution_count": null,
   "metadata": {},
   "outputs": [],
   "source": [
    "#==============================================================================\n",
    "# Trying PCA and Random Forest regression in a gridsearch\n",
    "#==============================================================================\n",
    "from sklearn.decomposition import PCA\n",
    "from sklearn.ensemble import RandomForestRegressor\n",
    "from sklearn.model_selection import GridSearchCV\n",
    "from sklearn.pipeline import  make_pipeline\n",
    "from sklearn.metrics import mean_squared_error\n",
    "from sklearn.preprocessing import StandardScaler"
   ]
  },
  {
   "cell_type": "code",
   "execution_count": null,
   "metadata": {},
   "outputs": [],
   "source": [
    "pca = PCA(n_components=20)\n",
    "X_pca_train = pca.fit_transform(X_emsc_train)"
   ]
  },
  {
   "cell_type": "code",
   "execution_count": null,
   "metadata": {},
   "outputs": [],
   "source": [
    "pca_df = pd.DataFrame(X_pca_train)\n",
    "pca_df['target'] = y_train"
   ]
  },
  {
   "cell_type": "code",
   "execution_count": null,
   "metadata": {},
   "outputs": [],
   "source": [
    "# import seaborn as sns\n",
    "# %matplotlib inline\n",
    "# sns.set(style=\"darkgrid\")\n",
    "# sns.pairplot( pca_df  )"
   ]
  },
  {
   "cell_type": "code",
   "execution_count": null,
   "metadata": {},
   "outputs": [],
   "source": [
    "from sklearn.cross_decomposition import PLSRegression\n",
    "from sklearn.metrics import mean_squared_error\n",
    "\n",
    "from sklearn.decomposition import PCA\n",
    "from sklearn.ensemble import RandomForestRegressor\n",
    "from sklearn.model_selection import GridSearchCV\n",
    "from sklearn.pipeline import  make_pipeline\n",
    "from sklearn.metrics import mean_squared_error\n",
    "from sklearn.preprocessing import StandardScaler"
   ]
  },
  {
   "cell_type": "code",
   "execution_count": null,
   "metadata": {},
   "outputs": [],
   "source": [
    "pls6 = PLSRegression(n_components=25, scale=False, max_iter= 5000)\n",
    "pls6.fit(X_emsc_train, y_train.flatten() )"
   ]
  },
  {
   "cell_type": "code",
   "execution_count": null,
   "metadata": {},
   "outputs": [],
   "source": [
    "print( mean_squared_error(y_train.flatten(), pls6.predict(X_emsc_train) ))\n",
    "y_test_pred = pls6.predict(X_emsc_test)"
   ]
  },
  {
   "cell_type": "code",
   "execution_count": null,
   "metadata": {},
   "outputs": [],
   "source": [
    "output = pd.DataFrame( y_test_pred )\n",
    "output['Id'] = output.index\n",
    "output=output.rename(columns={ 0: \"label\"})\n",
    "output.to_csv(\"submission_ca05_4.csv\", index=False)"
   ]
  },
  {
   "cell_type": "code",
   "execution_count": null,
   "metadata": {},
   "outputs": [],
   "source": [
    "output.head()"
   ]
  },
  {
   "cell_type": "code",
   "execution_count": null,
   "metadata": {},
   "outputs": [],
   "source": [
    "# train_df.replicates\n",
    "groups = np.asarray( [])\n",
    "import random\n",
    "random.seed(3)\n",
    "\n",
    "my_list = list(range(1,32))\n",
    "\n",
    "for i in  range( 1, 32 ) :\n",
    "    random_item_from_list =random.choice(my_list)    \n",
    "    my_list.remove(random_item_from_list)\n",
    "    lower_limit = (i-1)*5\n",
    "    upper_limit = (i)*5\n",
    "    rand_append_nos = sum ( (train_df.replicates < upper_limit)& (train_df.replicates >=lower_limit) )\n",
    "    groups = np.concatenate( (groups, np.repeat(random_item_from_list,rand_append_nos)),axis=None ) \n",
    "print(len(groups))\n",
    "print( set(groups))"
   ]
  },
  {
   "cell_type": "code",
   "execution_count": null,
   "metadata": {},
   "outputs": [],
   "source": [
    "from sklearn.model_selection import GroupKFold\n",
    "gkf = GroupKFold(31)"
   ]
  },
  {
   "cell_type": "code",
   "execution_count": null,
   "metadata": {},
   "outputs": [],
   "source": [
    "for train_id, test_id in gkf.split(X_emsc_train, y_train.flatten(), groups):\n",
    "    print(len(train_id), len( test_id), end=' ; ')"
   ]
  },
  {
   "cell_type": "code",
   "execution_count": null,
   "metadata": {},
   "outputs": [],
   "source": [
    "comp_range = [ 14,15,16,17,18] \n",
    "scale_range = [True, False] \n",
    "max_iter_range = [200,300,500]\n",
    "\n",
    "pls6 = make_pipeline( PLSRegression() )\n",
    "\n",
    "param_grid = [ {'plsregression__n_components': comp_range\n",
    "                , 'plsregression__scale': scale_range\n",
    "                , 'plsregression__max_iter': max_iter_range} ]\n",
    "\n",
    "\n",
    "gs = GridSearchCV(estimator=pls6,\n",
    "                param_grid=param_grid,\n",
    "                scoring='neg_mean_squared_error',\n",
    "                cv=gkf,\n",
    "                n_jobs=-1,\n",
    "                refit=True)\n",
    "\n",
    "gs.fit(X_emsc_train, y_train.flatten() ,groups=groups)\n"
   ]
  },
  {
   "cell_type": "code",
   "execution_count": null,
   "metadata": {},
   "outputs": [],
   "source": [
    "print(gs.best_score_)\n",
    "print(gs.best_params_)\n",
    "gs.best_estimator_"
   ]
  },
  {
   "cell_type": "code",
   "execution_count": null,
   "metadata": {},
   "outputs": [],
   "source": [
    "gs.cv_results_['mean_test_score']"
   ]
  },
  {
   "cell_type": "code",
   "execution_count": null,
   "metadata": {},
   "outputs": [],
   "source": [
    "gs=  PLSRegression(copy=True, max_iter=200, n_components=14,\n",
    "                               scale=False, tol=1e-06)\n",
    "gs.fit(X_emsc_train, y_train.flatten() )"
   ]
  },
  {
   "cell_type": "code",
   "execution_count": null,
   "metadata": {},
   "outputs": [],
   "source": [
    "print( mean_squared_error(y_train.flatten(), gs.predict(X_emsc_train) ) )\n",
    "y_test_pred = gs.predict(X_emsc_test)"
   ]
  },
  {
   "cell_type": "code",
   "execution_count": null,
   "metadata": {},
   "outputs": [],
   "source": [
    "output = pd.DataFrame( y_test_pred )\n",
    "output['Id'] = output.index\n",
    "output=output.rename(columns={ 0: \"label\"})\n",
    "output.to_csv(\"submission_ca05_10.csv\", index=False)"
   ]
  },
  {
   "cell_type": "markdown",
   "metadata": {},
   "source": [
    "# Try running with just the averages"
   ]
  },
  {
   "cell_type": "code",
   "execution_count": null,
   "metadata": {},
   "outputs": [],
   "source": [
    "train_avg_df = train_df.iloc[:, :].groupby('replicates').mean()\n",
    "test_avg_df = test_df.iloc[:, :].groupby('replicates').mean()"
   ]
  },
  {
   "cell_type": "code",
   "execution_count": null,
   "metadata": {},
   "outputs": [],
   "source": [
    "train_avg_df"
   ]
  },
  {
   "cell_type": "code",
   "execution_count": null,
   "metadata": {},
   "outputs": [],
   "source": [
    "pls_avg =  PLSRegression(copy=True, max_iter=500, n_components=16,\n",
    "                               scale=False, tol=1e-06)"
   ]
  },
  {
   "cell_type": "code",
   "execution_count": null,
   "metadata": {},
   "outputs": [],
   "source": [
    "comp_range = [ 14,15,16,17,18] \n",
    "scale_range = [True, False] \n",
    "max_iter_range = [200,300,500]\n",
    "\n",
    "pls6 = make_pipeline( PLSRegression() )\n",
    "\n",
    "param_grid = [ {'plsregression__n_components': comp_range\n",
    "                , 'plsregression__scale': scale_range\n",
    "                , 'plsregression__max_iter': max_iter_range} ]\n",
    "\n",
    "gs = GridSearchCV(estimator=pls6,\n",
    "                param_grid=param_grid,\n",
    "                scoring='neg_mean_squared_error',\n",
    "                cv=10,\n",
    "                n_jobs=-1,\n",
    "                refit=True)\n",
    "\n",
    "gs.fit( train_avg_df.iloc[:,:-1].values , train_avg_df['Iodine'].values )"
   ]
  },
  {
   "cell_type": "code",
   "execution_count": null,
   "metadata": {},
   "outputs": [],
   "source": [
    "print(gs.best_score_)\n",
    "print(gs.best_params_)\n",
    "gs.best_estimator_"
   ]
  },
  {
   "cell_type": "code",
   "execution_count": null,
   "metadata": {},
   "outputs": [],
   "source": [
    "output = pd.DataFrame( gs.predict( test_avg_df.iloc[:,:].values))\n",
    "output['Id'] = output.index\n",
    "output=output.rename(columns={ 0: \"label\"})\n",
    "output.to_csv(\"avg_plsr_1.csv\", index=False)"
   ]
  },
  {
   "cell_type": "markdown",
   "metadata": {},
   "source": [
    "**This gave 0.73 in the test dataset**"
   ]
  },
  {
   "cell_type": "code",
   "execution_count": null,
   "metadata": {},
   "outputs": [],
   "source": []
  }
 ],
 "metadata": {
  "kernelspec": {
   "display_name": "Python 3",
   "language": "python",
   "name": "python3"
  },
  "language_info": {
   "codemirror_mode": {
    "name": "ipython",
    "version": 3
   },
   "file_extension": ".py",
   "mimetype": "text/x-python",
   "name": "python",
   "nbconvert_exporter": "python",
   "pygments_lexer": "ipython3",
   "version": "3.7.4"
  }
 },
 "nbformat": 4,
 "nbformat_minor": 4
}
